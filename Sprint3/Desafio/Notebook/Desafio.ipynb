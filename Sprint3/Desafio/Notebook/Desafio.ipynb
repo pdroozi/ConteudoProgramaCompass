{
 "cells": [
  {
   "cell_type": "code",
   "execution_count": 7,
   "id": "c2b24e93-18c1-454c-83ae-f01cda222616",
   "metadata": {},
   "outputs": [
    {
     "name": "stdout",
     "output_type": "stream",
     "text": [
      "Arquivo 'csv_limpo.csv' gerado com sucesso!\n"
     ]
    }
   ],
   "source": [
    "###4.1 Limpeza CSV\n",
    "\n",
    "import pandas as pd\n",
    "import re\n",
    "\n",
    "# Função para limpar valores monetários\n",
    "def parse_money(value):\n",
    "    if pd.isna(value):\n",
    "        return None\n",
    "    return float(re.sub(r\"[^\\d.]\", \"\", str(value)))\n",
    "\n",
    "# Função para limpar strings: remove notas como [4][a], caracteres não ASCII e espaços extras\n",
    "def clean_text(text):\n",
    "    if pd.isna(text):\n",
    "        return \"\"\n",
    "    # Remove múltiplas anotações como [4], [a], [21][a]\n",
    "    text = re.sub(r\"(?:\\[[^\\]]*\\])+?\", \"\", text)\n",
    "    # Remove asteriscos\n",
    "    text = text.replace(\"*\", \"\")\n",
    "    # Remove caracteres não ASCII\n",
    "    text = re.sub(r\"[^\\x00-\\x7F]+\", \"\", text)\n",
    "    return text.strip()\n",
    "\n",
    "# Função para extrair anos de início e fim\n",
    "def extract_years(year_range):\n",
    "    years = str(year_range).split('-')\n",
    "    if len(years) == 2:\n",
    "        return int(years[0]), int(years[1])\n",
    "    else:\n",
    "        year = int(years[0])\n",
    "        return year, year\n",
    "\n",
    "# Carregar o CSV original\n",
    "df = pd.read_csv(\"../data/concert_tours_by_women.csv\")\n",
    "\n",
    "# Limpar campos monetários\n",
    "df[\"Actual gross\"] = df[\"Actual gross\"].apply(parse_money)\n",
    "df[\"Adjustedgross (in 2022 dollars)\"] = df[\"Adjustedgross (in 2022 dollars)\"].apply(parse_money)\n",
    "df[\"Average gross\"] = df[\"Average gross\"].apply(parse_money)\n",
    "\n",
    "# Limpar campos de texto\n",
    "df[\"Artist\"] = df[\"Artist\"].apply(clean_text)\n",
    "df[\"Tour title\"] = df[\"Tour title\"].apply(clean_text)\n",
    "\n",
    "# Extrair os anos de início e fim da turnê\n",
    "df[[\"Start year\", \"End year\"]] = df[\"Year(s)\"].apply(lambda x: pd.Series(extract_years(x)))\n",
    "\n",
    "# Selecionar e reordenar as colunas desejadas\n",
    "df_final = df[[\n",
    "    \"Rank\", \"Actual gross\", \"Adjustedgross (in 2022 dollars)\", \"Artist\",\n",
    "    \"Tour title\", \"Shows\", \"Average gross\", \"Start year\", \"End year\"\n",
    "]]\n",
    "\n",
    "# Exportar para novo CSV\n",
    "df_final.to_csv(\"../data/csv_limpo.csv\", index=False)\n",
    "print(\"Arquivo 'csv_limpo.csv' gerado com sucesso!\")\n"
   ]
  },
  {
   "cell_type": "code",
   "execution_count": null,
   "id": "15b9d065",
   "metadata": {},
   "outputs": [],
   "source": [
    "##4.2 Processamento de dados\n",
    "\n",
    "import pandas as pd\n",
    "import numpy as np\n",
    "import matplotlib.pyplot as plt\n",
    "import seaborn as sns\n",
    "\n",
    "\n",
    "\n"
   ]
  }
 ],
 "metadata": {
  "kernelspec": {
   "display_name": "base",
   "language": "python",
   "name": "python3"
  },
  "language_info": {
   "codemirror_mode": {
    "name": "ipython",
    "version": 3
   },
   "file_extension": ".py",
   "mimetype": "text/x-python",
   "name": "python",
   "nbconvert_exporter": "python",
   "pygments_lexer": "ipython3",
   "version": "3.12.7"
  }
 },
 "nbformat": 4,
 "nbformat_minor": 5
}
