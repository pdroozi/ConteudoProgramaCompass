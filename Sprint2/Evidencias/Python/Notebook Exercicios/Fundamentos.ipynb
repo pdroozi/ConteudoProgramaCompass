{
 "cells": [
  {
   "cell_type": "code",
   "execution_count": null,
   "id": "2c8df6f9-99aa-482d-8106-268b60d19e26",
   "metadata": {},
   "outputs": [],
   "source": [
    "\n",
    "\n",
    "\n",
    "\n",
    "#Arquivo JupiterLab com os resultados dos exercícios de python do PB AWS\n",
    "\n",
    "\n"
   ]
  },
  {
   "cell_type": "code",
   "execution_count": null,
   "id": "452acc94-a25c-4fea-92df-308721d8e99d",
   "metadata": {},
   "outputs": [
    {
     "name": "stdout",
     "output_type": "stream",
     "text": [
      "[1, 9, 25, 49, 81]\n"
     ]
    }
   ],
   "source": [
    "# Exercicio 1 \n",
    "\n",
    "a= [1, 4, 9, 16, 25, 36, 49, 64, 81, 100]\n",
    "\n",
    "listaImpares = []\n",
    "\n",
    "for x in a :\n",
    "    if x % 2 != 0 :\n",
    "        listaImpares.append(x)\n",
    "print(listaImpares)"
   ]
  },
  {
   "cell_type": "code",
   "execution_count": null,
   "id": "6ed96d4b-f0d7-4a02-a19e-f9131aa324d6",
   "metadata": {},
   "outputs": [
    {
     "name": "stdout",
     "output_type": "stream",
     "text": [
      "A palavra: maça não é um palíndromo\n",
      "A palavra: arara é um palíndromo\n",
      "A palavra: audio não é um palíndromo\n",
      "A palavra: radio não é um palíndromo\n",
      "A palavra: radar é um palíndromo\n",
      "A palavra: moto não é um palíndromo\n"
     ]
    }
   ],
   "source": [
    "# Exercicio 2\n",
    "\n",
    "listaPalavras = ['maça', 'arara', 'audio', 'radio', 'radar', 'moto']\n",
    "\n",
    "for x in listaPalavras :\n",
    "    palavraInvertida = x[::-1]\n",
    "    \n",
    "    if x == palavraInvertida:\n",
    "        print ('A palavra: ' + x + ' é um palíndromo')\n",
    "    else:\n",
    "        print ('A palavra: ' + x + ' não é um palíndromo')\n"
   ]
  },
  {
   "cell_type": "code",
   "execution_count": 3,
   "id": "414783fc-e6ee-45e8-acae-b56fbf00f30e",
   "metadata": {},
   "outputs": [
    {
     "name": "stdout",
     "output_type": "stream",
     "text": [
      "0 - Joao Soares está com 19 anos\n",
      "1 - Douglas Souza está com 28 anos\n",
      "2 - Lucas Silveira está com 25 anos\n",
      "3 - José Pedreira está com 31 anos\n"
     ]
    }
   ],
   "source": [
    "# Exercicio 3\n",
    "\n",
    "primeirosNomes = ['Joao', 'Douglas', 'Lucas', 'José']\n",
    "sobreNomes = ['Soares', 'Souza', 'Silveira', 'Pedreira']\n",
    "idades = [19, 28, 25, 31]\n",
    "\n",
    "for indice, (primeirosNomes, sobreNomes, idades) in enumerate(zip(primeirosNomes, sobreNomes, idades)):\n",
    "    print(f'{indice} - {primeirosNomes } {sobreNomes} está com {idades} anos')"
   ]
  },
  {
   "cell_type": "code",
   "execution_count": 4,
   "id": "41f92f4a",
   "metadata": {},
   "outputs": [
    {
     "name": "stdout",
     "output_type": "stream",
     "text": [
      "['abc', '123']\n"
     ]
    }
   ],
   "source": [
    "# Exercicio 4\n",
    "\n",
    "def removerDuplicados (lista_duplicada):\n",
    "    return list(set(lista_duplicada))\n",
    "\n",
    "lista_duplicada= ['abc', 'abc', 'abc', '123', 'abc', '123', '123']\n",
    "\n",
    "lista_unica = removerDuplicados(lista_duplicada)\n",
    "print(lista_unica)"
   ]
  },
  {
   "cell_type": "code",
   "execution_count": 13,
   "id": "062f5c6e",
   "metadata": {},
   "outputs": [
    {
     "name": "stdout",
     "output_type": "stream",
     "text": [
      "{'name': 'Fulano Da Silva', 'endereco': 'Rua Sem Nome, 31', 'startDateExecution': '2019-06-25 16:25:23.233', 'endDateExecution': '2019-06-25 16:25:23.331', 'siteId': 'BrasilDesktop', 'sitePage': '/', 'serverName': 'AS1332:10181', 'profileId': '8947071299', 'type': 'JSP_RENDERING', 'path': 'testado/com', 'performanceType': 'JSP_RENDERING'}\n"
     ]
    }
   ],
   "source": [
    "# Exercicio 5\n",
    "\n",
    "import json\n",
    "\n",
    "with open ('personex5.json', 'r', encoding='utf-8') as arquivo:\n",
    "    infos = json.load(arquivo)\n",
    "print(infos)"
   ]
  },
  {
   "cell_type": "code",
   "execution_count": 14,
   "id": "032cfdbb",
   "metadata": {},
   "outputs": [
    {
     "name": "stdout",
     "output_type": "stream",
     "text": [
      "[1, 4, 9, 16, 25, 36, 49, 64, 81, 100]\n"
     ]
    }
   ],
   "source": [
    "# Exercicio 6\n",
    "\n",
    "def my_map(lista, funcao):\n",
    "    resultado = []\n",
    "    for x in lista:\n",
    "        resultado.append(funcao(x))\n",
    "    return resultado\n",
    "\n",
    "def funcao (x):\n",
    "    return x * x\n",
    "\n",
    "lista = [1, 2, 3, 4, 5, 6, 7, 8, 9, 10]\n",
    "\n",
    "listaFinal = my_map(lista, funcao)\n",
    "print(listaFinal)"
   ]
  },
  {
   "cell_type": "code",
   "execution_count": 17,
   "id": "6516b758",
   "metadata": {},
   "outputs": [
    {
     "name": "stdout",
     "output_type": "stream",
     "text": [
      "Este conteúdo está em\n",
      "um\n",
      "arquivo\n",
      "de texto."
     ]
    }
   ],
   "source": [
    "# Exercicio 7\n",
    "\n",
    "arquivo  = open('arquivotextoex7.txt', 'r')\n",
    "infos = arquivo.read()\n",
    "print(infos, end = '')"
   ]
  },
  {
   "cell_type": "code",
   "execution_count": 18,
   "id": "740351b4",
   "metadata": {},
   "outputs": [
    {
     "name": "stdout",
     "output_type": "stream",
     "text": [
      "1\n",
      "3\n",
      "4\n",
      "hello\n",
      "alguma coisa\n",
      "20\n"
     ]
    }
   ],
   "source": [
    "# Exercicio 8\n",
    "\n",
    "def valorParametros(*args, **kwargs):\n",
    "    for arg in args:\n",
    "        print(arg)\n",
    "        \n",
    "    for key, value in kwargs.items():\n",
    "        print(f'{value}')\n",
    "\n",
    "valorParametros(1, 3, 4, 'hello', parametro_nomeado='alguma coisa', x=20)"
   ]
  },
  {
   "cell_type": "code",
   "execution_count": 19,
   "id": "1b4ed055",
   "metadata": {},
   "outputs": [
    {
     "name": "stdout",
     "output_type": "stream",
     "text": [
      "A lâmpada está ligada? True\n",
      "A lâmpada ainda está ligada? False\n"
     ]
    }
   ],
   "source": [
    "# Exercicio 9\n",
    "\n",
    "class Lampada:\n",
    "\n",
    "    def __init__ (self, ligada):\n",
    "        self.ligada = ligada\n",
    "    \n",
    "    def liga(self):\n",
    "        self.ligada = True\n",
    "\n",
    "    def desliga(self):\n",
    "        self.ligada = False\n",
    "\n",
    "    def esta_ligada(self):\n",
    "        return self.ligada\n",
    "        \n",
    "l1 = Lampada(True)  \n",
    "\n",
    "l1.esta_ligada()\n",
    "\n",
    "l1.liga()\n",
    "print(\"A lâmpada está ligada?\", l1.esta_ligada()) \n",
    "\n",
    "l1.desliga()\n",
    "print(\"A lâmpada ainda está ligada?\", l1.esta_ligada()) "
   ]
  },
  {
   "cell_type": "code",
   "execution_count": null,
   "id": "a21e731a",
   "metadata": {},
   "outputs": [
    {
     "name": "stdout",
     "output_type": "stream",
     "text": [
      "100\n"
     ]
    }
   ],
   "source": [
    "# Exercicio 10\n",
    "\n",
    "def somaNumeros (str):\n",
    "    numerosString = str.split(',')\n",
    "    soma = 0\n",
    "    for x in numerosString:\n",
    "        if x.isdigit():\n",
    "            soma = soma + int(x)\n",
    "    return soma\n",
    "\n",
    "string = '1,3,4,6,10,76'\n",
    "print(somaNumeros(string))"
   ]
  },
  {
   "cell_type": "code",
   "execution_count": null,
   "id": "4d2242c8",
   "metadata": {},
   "outputs": [
    {
     "name": "stdout",
     "output_type": "stream",
     "text": [
      "[1, 2, 3, 4] [5, 6, 7, 8] [9, 10, 11, 12]\n"
     ]
    }
   ],
   "source": [
    "# Exercicio 11\n",
    "\n",
    "def divisaoListas (listaOriginal):\n",
    "    divInteiro = len(listaOriginal) // 3\n",
    "\n",
    "    lista0 = listaOriginal[0:divInteiro]\n",
    "    lista1 = listaOriginal[divInteiro:(divInteiro*2)]\n",
    "    lista2 = listaOriginal[(divInteiro*2):(divInteiro*3)]\n",
    "    print(lista0, lista1, lista2)\n",
    "\n",
    "listaOriginal = [1, 2, 3, 4, 5, 6, 7, 8, 9, 10, 11, 12]\n",
    "divisaoListas(listaOriginal)"
   ]
  },
  {
   "cell_type": "code",
   "execution_count": null,
   "id": "ed2ba202",
   "metadata": {},
   "outputs": [
    {
     "name": "stdout",
     "output_type": "stream",
     "text": [
      "[44, 47, 52, 53, 54]\n"
     ]
    }
   ],
   "source": [
    "# Exercicio 12\n",
    "\n",
    "speed = {'jan':47, 'feb':52, 'march':47, 'April':44, 'May':52, 'June':53, 'july':54, 'Aug':44, 'Sept':54}\n",
    "\n",
    "lista_valores = speed.values()\n",
    "\n",
    "lista_valores_unicos = list(set(lista_valores))\n",
    "\n",
    "print(lista_valores_unicos)"
   ]
  },
  {
   "cell_type": "code",
   "execution_count": 23,
   "id": "31a28564",
   "metadata": {},
   "outputs": [
    {
     "name": "stdout",
     "output_type": "stream",
     "text": [
      "Media: 224.06, Mediana: 177.0, Mínimo: 12, Máximo: 483\n"
     ]
    }
   ],
   "source": [
    "# Exercicio 13\n",
    "\n",
    "import random\n",
    "\n",
    "random_list = random.sample(range(500), 50)\n",
    "random_list_ordenada = sorted(random_list)\n",
    "numeros = len(random_list)\n",
    "\n",
    "if numeros % 2 == 0:\n",
    "    mediana = (random_list_ordenada[(numeros // 2) - 1] + random_list_ordenada[numeros // 2]) /2\n",
    "else:\n",
    "    mediana = random_list_ordenada[numeros // 2]\n",
    "media = sum(random_list) / numeros\n",
    "valor_minimo = min(random_list)\n",
    "valor_maximo = max(random_list)\n",
    "\n",
    "print(f'Media: {media}, Mediana: {mediana}, Mínimo: {valor_minimo}, Máximo: {valor_maximo}')"
   ]
  },
  {
   "cell_type": "code",
   "execution_count": 24,
   "id": "1992297e",
   "metadata": {},
   "outputs": [
    {
     "name": "stdout",
     "output_type": "stream",
     "text": [
      "[89, 55, 34, 21, 13, 8, 5, 3, 2, 0, 1]\n"
     ]
    }
   ],
   "source": [
    "# Exercicio 14\n",
    "\n",
    "a = [1, 0, 2, 3, 5, 8, 13, 21, 34, 55, 89]\n",
    "lista = a[::-1]\n",
    "print(lista)"
   ]
  },
  {
   "cell_type": "code",
   "execution_count": 25,
   "id": "2ed77461",
   "metadata": {},
   "outputs": [
    {
     "name": "stdout",
     "output_type": "stream",
     "text": [
      "Pato\n",
      "Voando..\n",
      "Pato emitindo som...\n",
      "Quack Quack\n",
      "Pardal\n",
      "Voando..\n",
      "Pardal emitindo som...\n",
      "Piu Piu\n"
     ]
    }
   ],
   "source": [
    "# Exercicio 15\n",
    "\n",
    "class Passaro:\n",
    "    def voar(self):\n",
    "        print('Voando..')\n",
    "    def emitirsom(self):\n",
    "        print('Animal emitindo som...')\n",
    "\n",
    "class Pato(Passaro):\n",
    "    def emitirsom(self):\n",
    "        print('Pato emitindo som...')\n",
    "        print('Quack Quack')\n",
    "\n",
    "class Pardal(Passaro):\n",
    "    def emitirsom(self):\n",
    "        print('Pardal emitindo som...')\n",
    "        print('Piu Piu')\n",
    "\n",
    "\n",
    "print('Pato')\n",
    "p1 = Pato()\n",
    "p1.voar()\n",
    "p1.emitirsom()\n",
    "\n",
    "print('Pardal')\n",
    "pa1 = Pardal()\n",
    "pa1.voar()\n",
    "pa1.emitirsom()"
   ]
  },
  {
   "cell_type": "code",
   "execution_count": 26,
   "id": "661d5405",
   "metadata": {},
   "outputs": [
    {
     "name": "stdout",
     "output_type": "stream",
     "text": [
      "Fulano De Tal\n"
     ]
    }
   ],
   "source": [
    "# Exercicio 16\n",
    "\n",
    "class Pessoa:\n",
    "    \n",
    "    def __init__(self, id):\n",
    "        self.__nome = None\n",
    "        self.id = id\n",
    "    \n",
    "    @property\n",
    "    def nome (self):\n",
    "        return self.nome\n",
    "        \n",
    "    def nome (self, valor):\n",
    "        self.nome = valor\n",
    "    \n",
    "\n",
    "pessoa = Pessoa(0) \n",
    "pessoa.nome = 'Fulano De Tal'\n",
    "print(pessoa.nome)"
   ]
  },
  {
   "cell_type": "code",
   "execution_count": 27,
   "id": "5e7da3b5",
   "metadata": {},
   "outputs": [
    {
     "name": "stdout",
     "output_type": "stream",
     "text": [
      "Somando: 4 + 5 = 9\n",
      "Subtraindo: 4 - 5 = -1\n"
     ]
    }
   ],
   "source": [
    "# Exercicio 17\n",
    "\n",
    "class Calculo:\n",
    "    def soma (self, x, y):\n",
    "        print(f'Somando: {x} + {y} = {x + y}')\n",
    "        return\n",
    "    def subt (self, x, y):\n",
    "        print(f'Subtraindo: {x} - {y} = {x - y}')\n",
    "        return\n",
    "        \n",
    "valores = Calculo()\n",
    "valores.soma(4, 5)\n",
    "valores.subt(4, 5)"
   ]
  },
  {
   "cell_type": "code",
   "execution_count": 28,
   "id": "edba3f7a",
   "metadata": {},
   "outputs": [
    {
     "name": "stdout",
     "output_type": "stream",
     "text": [
      "[1, 2, 3, 4, 5]\n"
     ]
    },
    {
     "data": {
      "text/plain": [
       "[9, 8, 7, 6]"
      ]
     },
     "execution_count": 28,
     "metadata": {},
     "output_type": "execute_result"
    }
   ],
   "source": [
    "# Exercicio 18\n",
    "\n",
    "class Ordenadora:\n",
    "\n",
    "    def __init__(self, list):\n",
    "        self.listaBaguncada = list\n",
    "\n",
    "    def ordenacaoCrescente (self):\n",
    "        self.listaOrdenadaCrescente = sorted(self.listaBaguncada)\n",
    "        print(self.listaOrdenadaCrescente)\n",
    "        return self.listaOrdenadaCrescente\n",
    " \n",
    "    def ordenacaoDecrescente (self):\n",
    "        self.listaOrdenadaDecrescente = sorted(self.listaBaguncada, reverse = True)\n",
    "        return self.listaOrdenadaDecrescente\n",
    "\n",
    "\n",
    "c1 = Ordenadora([3,4,2,1,5])\n",
    "c1.ordenacaoCrescente()\n",
    "\n",
    "dc1 = Ordenadora([9,7,6,8])\n",
    "dc1.ordenacaoDecrescente()"
   ]
  },
  {
   "cell_type": "code",
   "execution_count": 29,
   "id": "989a88bc",
   "metadata": {},
   "outputs": [
    {
     "name": "stdout",
     "output_type": "stream",
     "text": [
      "O avião de modelo BOIENG456 possui uma velocidade máxima de 1500 km/h, capacidade para 400 passageiros e é da cor Azul\n",
      "O avião de modelo Embraer Praetor 600 possui uma velocidade máxima de 863 km/h, capacidade para 14 passageiros e é da cor Azul\n",
      "O avião de modelo Antonov An-2 possui uma velocidade máxima de 258 km/h, capacidade para 12 passageiros e é da cor Azul\n"
     ]
    }
   ],
   "source": [
    "# Exercicio 19\n",
    "\n",
    "class Aviao:\n",
    "    \n",
    "    cor = 'Azul'\n",
    "    \n",
    "    def __init__(self, modelo, velocidade_maxima, capacidade):\n",
    "        self.modelo = modelo\n",
    "        self.velocidade_maxima = velocidade_maxima\n",
    "        self.capacidade = capacidade\n",
    "\n",
    "a1 = Aviao(\"BOIENG456\", \"1500 km/h\", 400)\n",
    "a2 = Aviao(\"Embraer Praetor 600\", \"863 km/h\", 14)\n",
    "a3 = Aviao(\"Antonov An-2\", \"258 km/h\", 12)\n",
    "\n",
    "lista_avioes = [a1, a2, a3]\n",
    "\n",
    "for x in lista_avioes:\n",
    "    print(f'O avião de modelo {x.modelo} possui uma velocidade máxima de {x.velocidade_maxima}, capacidade para {x.capacidade} passageiros e é da cor {Aviao.cor}')"
   ]
  },
  {
   "cell_type": "code",
   "execution_count": 31,
   "id": "5a99d8ff",
   "metadata": {},
   "outputs": [
    {
     "name": "stdout",
     "output_type": "stream",
     "text": [
      "[8000, 7998, 7996, 7994, 7994]\n",
      "39982\n"
     ]
    }
   ],
   "source": [
    "# Exercicio 20\n",
    "\n",
    "arquivo = open('numberex20.txt', 'r')\n",
    "numeros = list(map(int, arquivo))\n",
    "\n",
    "listaParesOrdenados = sorted(list(filter(lambda x: x % 2 == 0, numeros)), reverse = True)\n",
    "listaTop5 = listaParesOrdenados[:5]\n",
    "listaSomaTop5 = sum(listaTop5)\n",
    "\n",
    "print(listaTop5)\n",
    "print(listaSomaTop5)\n"
   ]
  },
  {
   "cell_type": "code",
   "execution_count": 32,
   "id": "1d64b636",
   "metadata": {},
   "outputs": [
    {
     "data": {
      "text/plain": [
       "9"
      ]
     },
     "execution_count": 32,
     "metadata": {},
     "output_type": "execute_result"
    }
   ],
   "source": [
    "# Exercicio 21\n",
    "\n",
    "def conta_vogais(texto:str)-> int:\n",
    "    return len(list(filter(lambda x: x in 'aAeEiIoOuU', texto)))\n",
    "    \n",
    "texto1 = \"Esse é o teste1 da funcao\"\n",
    "texto2 = \"E este é o test2 da funcao\"\n",
    "\n",
    "conta_vogais(texto1)\n",
    "conta_vogais(texto2)"
   ]
  },
  {
   "cell_type": "code",
   "execution_count": 36,
   "id": "28369286",
   "metadata": {},
   "outputs": [
    {
     "name": "stdout",
     "output_type": "stream",
     "text": [
      "200\n"
     ]
    }
   ],
   "source": [
    "# Exercicio 22\n",
    "\n",
    "from functools import reduce\n",
    "\n",
    "def calcula_saldo(lancamentos) -> float:\n",
    "    lista_tuplas = map(lambda x: x[0] if x[1] == 'C' else -x[0], lancamentos)\n",
    "    resultado = reduce(lambda soma, x: soma + x, lista_tuplas, 0)\n",
    "    return resultado\n",
    "\n",
    "lancamentos = [\n",
    "    (200,'D'),\n",
    "    (300,'C'),\n",
    "    (100,'C')\n",
    "]\n",
    "\n",
    "print(calcula_saldo(lancamentos))"
   ]
  },
  {
   "cell_type": "code",
   "execution_count": 38,
   "id": "1525dee6",
   "metadata": {},
   "outputs": [
    {
     "name": "stdout",
     "output_type": "stream",
     "text": [
      "12.0\n"
     ]
    }
   ],
   "source": [
    "# Exercicio 23\n",
    "\n",
    "def calcular_valor_maximo(operadores, operandos) -> float:\n",
    "    operacoes = {\n",
    "        '+': lambda a, b: a + b,\n",
    "        '-': lambda a, b: a - b,\n",
    "        '*': lambda a, b: a * b,\n",
    "        '/': lambda a, b: a / b,\n",
    "        '%': lambda a, b: a % b\n",
    "    }\n",
    "\n",
    "    valores = map(lambda tupla: operacoes[tupla[0]](tupla[1][0], tupla[1][1]),zip(operadores, operandos))\n",
    "    return float(max(valores))\n",
    "    \n",
    "operadores = ['+','-','*','/','+']\n",
    "operandos  = [(3,6), (-7,4.9), (8,-8), (10,2), (8,4)]\n",
    "\n",
    "print(calcular_valor_maximo(operadores, operandos))"
   ]
  },
  {
   "cell_type": "code",
   "execution_count": 40,
   "id": "61cbf16b",
   "metadata": {},
   "outputs": [
    {
     "name": "stdout",
     "output_type": "stream",
     "text": [
      "Nome: Alexandre da Rosa Notas: [10, 10, 8] Média: 9.33\n",
      "Nome: Ana Clara das Neves Notas: [7, 6, 6] Média: 6.33\n",
      "Nome: Ana Gonçalves Notas: [8, 3, 3] Média: 4.67\n",
      "Nome: Ana Julia Cavalcanti Notas: [10, 10, 9] Média: 9.67\n",
      "Nome: Ana Vitória Moraes Notas: [10, 6, 5] Média: 7.0\n",
      "Nome: André Mendes Notas: [6, 4, 4] Média: 4.67\n",
      "Nome: Beatriz Moreira Notas: [6, 4, 3] Média: 4.33\n",
      "Nome: Carolina da Mata Notas: [5, 5, 3] Média: 4.33\n",
      "Nome: Catarina Barros Notas: [10, 4, 3] Média: 5.67\n",
      "Nome: Cauê Fogaça Notas: [10, 5, 5] Média: 6.67\n",
      "Nome: Cecília Costa Notas: [9, 4, 4] Média: 5.67\n",
      "Nome: Clara da Rocha Notas: [9, 9, 7] Média: 8.33\n",
      "Nome: Davi Lucas Gomes Notas: [9, 8, 8] Média: 8.33\n",
      "Nome: Diogo Aragão Notas: [7, 5, 5] Média: 5.67\n",
      "Nome: Dr. Pedro Henrique Rezende Notas: [10, 10, 3] Média: 7.67\n",
      "Nome: Dra. Heloísa Pinto Notas: [8, 6, 5] Média: 6.33\n",
      "Nome: Dra. Laura Pereira Notas: [6, 5, 3] Média: 4.67\n",
      "Nome: Enzo Melo Notas: [10, 10, 6] Média: 8.67\n",
      "Nome: Gabriel Novaes Notas: [10, 10, 8] Média: 9.33\n",
      "Nome: Gabriel da Rosa Notas: [3, 3, 2] Média: 2.67\n",
      "Nome: Heitor Aragão Notas: [6, 6, 5] Média: 5.67\n",
      "Nome: Heitor Martins Notas: [10, 9, 6] Média: 8.33\n",
      "Nome: João Cardoso Notas: [10, 7, 5] Média: 7.33\n",
      "Nome: João Pedro Moura Notas: [5, 3, 3] Média: 3.67\n",
      "Nome: Leandro Rodrigues Notas: [7, 5, 4] Média: 5.33\n",
      "Nome: Letícia Jesus Notas: [6, 5, 5] Média: 5.33\n",
      "Nome: Luigi Pereira Notas: [9, 8, 8] Média: 8.33\n",
      "Nome: Maria Luiza Correia Notas: [7, 5, 5] Média: 5.67\n",
      "Nome: Maria Mendes Notas: [7, 3, 3] Média: 4.33\n",
      "Nome: Nicolas Campos Notas: [10, 8, 7] Média: 8.33\n",
      "Nome: Nina Viana Notas: [10, 9, 6] Média: 8.33\n",
      "Nome: Paulo da Rosa Notas: [5, 5, 5] Média: 5.0\n",
      "Nome: Pedro Castro Notas: [9, 8, 5] Média: 7.33\n",
      "Nome: Pedro Lucas Araújo Notas: [9, 7, 3] Média: 6.33\n",
      "Nome: Rodrigo Jesus Notas: [10, 8, 8] Média: 8.67\n",
      "Nome: Ryan Nascimento Notas: [9, 6, 4] Média: 6.33\n",
      "Nome: Sr. Luiz Otávio Cardoso Notas: [10, 10, 9] Média: 9.67\n",
      "Nome: Sra. Melissa da Cunha Notas: [10, 5, 3] Média: 6.0\n",
      "Nome: Srta. Carolina Almeida Notas: [10, 9, 2] Média: 7.0\n",
      "Nome: Thiago Silveira Notas: [7, 7, 4] Média: 6.0\n"
     ]
    }
   ],
   "source": [
    "# Exercicio 24\n",
    "\n",
    "import csv\n",
    "\n",
    "def processamentoDados(arquivo_csv):\n",
    "    arquivo = open (arquivo_csv, mode = 'r')\n",
    "    leitura = csv.reader(arquivo)\n",
    "    dfEstudantes = list(leitura)\n",
    "    \n",
    "    infos = map(lambda linha: {\n",
    "        'nome': linha[0],\n",
    "        'maiores_notas': sorted(map(int, linha[1:]), reverse=True)[:3],\n",
    "        'media_notas': round(sum(sorted(map(int, linha[1:]), reverse=True)[:3]) / 3, 2)\n",
    "    }, dfEstudantes)\n",
    "    \n",
    "    infosOrdenadas = sorted(infos, key=lambda x: x['nome'])\n",
    "    \n",
    "    for estudante in infosOrdenadas:\n",
    "        print(f\"Nome: {estudante['nome']} Notas: {estudante['maiores_notas']} Média: {estudante['media_notas']}\")\n",
    "\n",
    "processamentoDados(\"estudantesex24.csv\")"
   ]
  },
  {
   "cell_type": "code",
   "execution_count": 42,
   "id": "067e823e",
   "metadata": {},
   "outputs": [
    {
     "name": "stdout",
     "output_type": "stream",
     "text": [
      "[('feijão', 3.49), ('arroz', 4.99)]\n"
     ]
    }
   ],
   "source": [
    "# Exercicio 25\n",
    "\n",
    "def maiores_que_media(conteudo):\n",
    "    media = sum(conteudo.values()) / len(conteudo)\n",
    "    resultado = sorted(filter(lambda item: item[1] > media, conteudo.items()), key=lambda item: item[1])\n",
    "    print(list(resultado))\n",
    "\n",
    "conteudo = {\n",
    "    \"arroz\": 4.99,\n",
    "    \"feijão\": 3.49,\n",
    "    \"macarrão\": 2.99,\n",
    "    \"leite\": 3.29,\n",
    "    \"pão\": 1.99\n",
    "}\n",
    "\n",
    "maiores_que_media(conteudo)"
   ]
  },
  {
   "cell_type": "code",
   "execution_count": 44,
   "id": "7f7512d5",
   "metadata": {},
   "outputs": [
    {
     "name": "stdout",
     "output_type": "stream",
     "text": [
      "[2, 4, 6, 8, 10]\n"
     ]
    }
   ],
   "source": [
    "# Exercicio 26\n",
    "\n",
    "def pares_ate(n:int):\n",
    "    return (x for x in range(2, n+1) if x % 2 == 0)\n",
    "\n",
    "print(list(pares_ate(10)))"
   ]
  }
 ],
 "metadata": {
  "kernelspec": {
   "display_name": "base",
   "language": "python",
   "name": "python3"
  },
  "language_info": {
   "codemirror_mode": {
    "name": "ipython",
    "version": 3
   },
   "file_extension": ".py",
   "mimetype": "text/x-python",
   "name": "python",
   "nbconvert_exporter": "python",
   "pygments_lexer": "ipython3",
   "version": "3.12.7"
  }
 },
 "nbformat": 4,
 "nbformat_minor": 5
}
