{
 "cells": [
  {
   "cell_type": "code",
   "execution_count": 42,
   "id": "c0cf214e-d79c-4251-bc43-ffe9dd55eba6",
   "metadata": {},
   "outputs": [
    {
     "ename": "NameError",
     "evalue": "name 'actors' is not defined",
     "output_type": "error",
     "traceback": [
      "\u001b[1;31m---------------------------------------------------------------------------\u001b[0m",
      "\u001b[1;31mNameError\u001b[0m                                 Traceback (most recent call last)",
      "Cell \u001b[1;32mIn[42], line 8\u001b[0m\n\u001b[0;32m      5\u001b[0m     infos \u001b[38;5;241m=\u001b[39m [rows\u001b[38;5;241m.\u001b[39msplit(\u001b[38;5;124m'\u001b[39m\u001b[38;5;124m,\u001b[39m\u001b[38;5;124m'\u001b[39m)\u001b[38;5;241m.\u001b[39mstrip() \u001b[38;5;28;01mfor\u001b[39;00m linha \u001b[38;5;129;01min\u001b[39;00m rows [\u001b[38;5;241m1\u001b[39m:]]\n\u001b[0;32m      6\u001b[0m     \u001b[38;5;28;01mreturn\u001b[39;00m infos, colunas\n\u001b[1;32m----> 8\u001b[0m lerArquivo(actors\u001b[38;5;241m.\u001b[39mcsv)\n",
      "\u001b[1;31mNameError\u001b[0m: name 'actors' is not defined"
     ]
    }
   ],
   "source": [
    "def lerArquivo (arquivo):\n",
    "    arquivo = open('actors.csv', 'r')\n",
    "    rows = arquivo.readlines()\n",
    "    colunas = rows[0].split(',').strip()\n",
    "    infos = [rows.split(',').strip() for linha in rows [1:]]\n",
    "    return infos, colunas\n",
    "\n",
    "lerArquivo(actors.csv)"
   ]
  },
  {
   "cell_type": "code",
   "execution_count": null,
   "id": "18820d3f-52eb-4b42-8fd5-9e1064c3524b",
   "metadata": {},
   "outputs": [],
   "source": []
  }
 ],
 "metadata": {
  "kernelspec": {
   "display_name": "Python [conda env:base] *",
   "language": "python",
   "name": "conda-base-py"
  },
  "language_info": {
   "codemirror_mode": {
    "name": "ipython",
    "version": 3
   },
   "file_extension": ".py",
   "mimetype": "text/x-python",
   "name": "python",
   "nbconvert_exporter": "python",
   "pygments_lexer": "ipython3",
   "version": "3.12.7"
  }
 },
 "nbformat": 4,
 "nbformat_minor": 5
}
