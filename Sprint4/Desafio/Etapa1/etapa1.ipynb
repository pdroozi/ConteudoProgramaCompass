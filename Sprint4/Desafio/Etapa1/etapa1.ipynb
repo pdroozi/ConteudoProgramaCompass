{
 "cells": [
  {
   "cell_type": "markdown",
   "id": "8087fe2b",
   "metadata": {},
   "source": [
    "# Etapa 1 Desafio \n",
    "\n",
    "## Criação de um Script Python com Boto3 que cria um Bucket no S3 da AWS e que faça o upload do CSV origem, localizado na pasta \"data\""
   ]
  },
  {
   "cell_type": "code",
   "execution_count": null,
   "id": "76de3506",
   "metadata": {},
   "outputs": [
    {
     "name": "stdout",
     "output_type": "stream",
     "text": [
      "Bucket 'meu-bucket-nome-unico-2025' já existe.\n",
      "Arquivo enviado com sucesso!\n"
     ]
    }
   ],
   "source": [
    "import boto3\n",
    "import awswrangler as wr\n",
    "from botocore.exceptions import ClientError\n",
    "\n",
    "s3_client = boto3.client('s3', region_name='us-east-1')\n",
    "\n",
    "bucket_name = 'meu-bucket-nome-unico-2025'\n",
    "file_name = 'ProUniTrienio.csv'\n",
    "local_path = '../data/ProUniTrienio.csv'\n",
    "\n",
    "# Verifica se o bucket já existe\n",
    "s3_client.head_bucket(Bucket=bucket_name)\n",
    "print(f\"Bucket '{bucket_name}' já existe.\")\n",
    "\n",
    "s3_client.create_bucket(ACL='private', Bucket=bucket_name)\n",
    "print(\"Bucket criado com sucesso!\")\n",
    "\n",
    "# Envia o arquivo\n",
    "s3_client.upload_file(local_path, bucket_name, file_name)\n",
    "print(\"Arquivo enviado com sucesso!\")\n",
    "\n"
   ]
  }
 ],
 "metadata": {
  "kernelspec": {
   "display_name": "base",
   "language": "python",
   "name": "python3"
  },
  "language_info": {
   "codemirror_mode": {
    "name": "ipython",
    "version": 3
   },
   "file_extension": ".py",
   "mimetype": "text/x-python",
   "name": "python",
   "nbconvert_exporter": "python",
   "pygments_lexer": "ipython3",
   "version": "3.12.7"
  }
 },
 "nbformat": 4,
 "nbformat_minor": 5
}
