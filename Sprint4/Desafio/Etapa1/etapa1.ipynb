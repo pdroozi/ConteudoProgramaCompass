{
 "cells": [
  {
   "cell_type": "markdown",
   "id": "8087fe2b",
   "metadata": {},
   "source": [
    "# Etapa 1 Desafio \n",
    "\n",
    "## Criação de um Script Python com Boto3 que cria um Bucket no S3 da AWS e que faça o upload do CSV origem, localizado na pasta \"data\"\n",
    "\n"
   ]
  }
 ],
 "metadata": {
  "language_info": {
   "name": "python"
  }
 },
 "nbformat": 4,
 "nbformat_minor": 5
}
